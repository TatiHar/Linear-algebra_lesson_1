{
 "cells": [
  {
   "cell_type": "markdown",
   "id": "36fe939c",
   "metadata": {},
   "source": [
    "Часть 2"
   ]
  },
  {
   "cell_type": "markdown",
   "id": "1c3ef2bc",
   "metadata": {},
   "source": [
    "1. Найдите скалярное произведение векторов 𝑥,𝑦 ∈ ℝ :"
   ]
  },
  {
   "cell_type": "code",
   "execution_count": 3,
   "id": "6e104267",
   "metadata": {},
   "outputs": [],
   "source": [
    "import numpy as np"
   ]
  },
  {
   "cell_type": "code",
   "execution_count": 4,
   "id": "326ae6bf",
   "metadata": {},
   "outputs": [
    {
     "name": "stdout",
     "output_type": "stream",
     "text": [
      "Скалярное произведение a и b:\n",
      "33\n"
     ]
    }
   ],
   "source": [
    "x = np.array([0, -3, 6])\n",
    "y = np.array([-4, 7, 9])\n",
    "print(f'Скалярное произведение a и b:\\n{np.dot(x, y)}')"
   ]
  },
  {
   "cell_type": "code",
   "execution_count": 5,
   "id": "5221e705",
   "metadata": {},
   "outputs": [
    {
     "name": "stdout",
     "output_type": "stream",
     "text": [
      "Скалярное произведение a и b:\n",
      "-23\n"
     ]
    }
   ],
   "source": [
    "x = np.array([7, -4, 0, 1])\n",
    "y = np.array([-3, 1, 11, 2])\n",
    "print(f'Скалярное произведение a и b:\\n{np.dot(x, y)}')"
   ]
  },
  {
   "cell_type": "markdown",
   "id": "fd409595",
   "metadata": {},
   "source": [
    "2. Найдите нормы векторов  (4,2,4)  и  (12,3,4)  и угол между ними."
   ]
  },
  {
   "cell_type": "code",
   "execution_count": 6,
   "id": "30c9f673",
   "metadata": {},
   "outputs": [
    {
     "name": "stdout",
     "output_type": "stream",
     "text": [
      "Норма векторов:\n",
      " 10.0\n",
      " 19.0\n",
      "Угол между векторами: 0.8974358974358974\n"
     ]
    }
   ],
   "source": [
    "from numpy.linalg import norm\n",
    "x = np.array([4, 2, 4])\n",
    "y = np.array([12, 3, 4])\n",
    "print(f'Норма векторов:\\n {norm(x, ord = 1)}\\n {norm(y, ord = 1)}')\n",
    "cos_phi = np.dot(x,y)/ norm(x)/norm(y)\n",
    "print(f'Угол между векторами: {cos_phi}')"
   ]
  },
  {
   "cell_type": "markdown",
   "id": "6aedbea4",
   "metadata": {},
   "source": [
    "3. совокупность всех векторов трёхмерного пространства, у которых по крайней мере одна из первых двух координат равна нулю;, если за скалярное произведение принять:\n",
    "а) произведение длин векторов;\n",
    "б) утроенное обычное скалярное произведение векторов?"
   ]
  },
  {
   "cell_type": "markdown",
   "id": "da38e641",
   "metadata": {},
   "source": [
    "Так как евклидово пространство — это вещественное линейное пространство со скалярным произведением. Поскольку евклидово пространство является линейным пространством, на него переносятся все понятия, определенные для линейного пространства, в частности, понятия размерности и базиса."
   ]
  },
  {
   "cell_type": "markdown",
   "id": "4558866e",
   "metadata": {},
   "source": [
    "Следовательно, обо ответа верны"
   ]
  },
  {
   "cell_type": "markdown",
   "id": "15c096cf",
   "metadata": {},
   "source": [
    "4. Выясните, какие из нижеперечисленных векторов образуют ортонормированный базис в линейном пространстве $\\mathbb{R}^{3}$:<br>\n",
    "а) $(1,0,0),(0,0,1);$ <br>\n",
    "б) $(1/\\sqrt{2},-1/\\sqrt{2},0),(1/\\sqrt{2},1/\\sqrt{2},0), (0,0,1);$<br>\n",
    "в) $(1/2, -1/2, 0), (0, 1/2, 1/2), (0,0,1);$<br>\n",
    "г) $(1,0,0),(0,1,0),(0,0,1)?$ "
   ]
  },
  {
   "cell_type": "code",
   "execution_count": 7,
   "id": "d3c6cf46",
   "metadata": {},
   "outputs": [
    {
     "name": "stdout",
     "output_type": "stream",
     "text": [
      "Ортонормированный базис 0\n"
     ]
    }
   ],
   "source": [
    "# а)  (1,0,0),(0,0,1);\n",
    "a = np.array([1, 0, 0])\n",
    "b = np.array([0, 0, 1])\n",
    "print('Ортонормированный базис', np.dot(a, b))"
   ]
  },
  {
   "cell_type": "code",
   "execution_count": 8,
   "id": "e6d9b73a",
   "metadata": {},
   "outputs": [
    {
     "name": "stdout",
     "output_type": "stream",
     "text": [
      "Ортонормированный базис\n",
      "0.0\n",
      "0.0\n",
      "0.0\n",
      "1.0, 1.0, 1.0\n"
     ]
    }
   ],
   "source": [
    "#б)  (1/2⎯⎯√,−1/2⎯⎯√,0),(1/2⎯⎯√,1/2⎯⎯√,0),(0,0,1); \n",
    "c = np.array([(1/(2**0.5)), (-1/(2**0.5)), 0])\n",
    "d = np.array([(1/(2**0.5)), (1/(2**0.5)), 0])\n",
    "b = np.array([0, 0, 1])\n",
    "print('Ортонормированный базис')\n",
    "print(np.dot(c, d))\n",
    "print(np.dot(c, b))\n",
    "print(np.dot(b, d))\n",
    "print(f'{norm(c):.1f}, {norm(d):.1f}, {norm(b):.1f}')"
   ]
  },
  {
   "cell_type": "code",
   "execution_count": 9,
   "id": "6f9e9160",
   "metadata": {},
   "outputs": [
    {
     "name": "stdout",
     "output_type": "stream",
     "text": [
      "Не ортогональный, не ортонормированный базис\n",
      "-0.25\n",
      "0.0\n",
      "0.5\n",
      "0.7071067811865476 0.7071067811865476 1.0\n"
     ]
    }
   ],
   "source": [
    "#в)  (1/2,−1/2,0),(0,1/2,1/2),(0,0,1); \n",
    "e = np.array([0.5, -0.5, 0])\n",
    "f = np.array([0, 0.5, 0.5])\n",
    "b = np.array([0, 0, 1])\n",
    "print('Не ортогональный, не ортонормированный базис')\n",
    "print(np.dot(e, f))\n",
    "print(np.dot(e, b))\n",
    "print(np.dot(b, f))\n",
    "print(norm(e), norm(f), norm(b))"
   ]
  },
  {
   "cell_type": "code",
   "execution_count": 10,
   "id": "da2715d7",
   "metadata": {},
   "outputs": [
    {
     "name": "stdout",
     "output_type": "stream",
     "text": [
      "Ортонормированный базис\n"
     ]
    }
   ],
   "source": [
    "#г)  (1,0,0),(0,1,0),(0,0,1)\n",
    "print('Ортонормированный базис')"
   ]
  }
 ],
 "metadata": {
  "kernelspec": {
   "display_name": "Python 3 (ipykernel)",
   "language": "python",
   "name": "python3"
  },
  "language_info": {
   "codemirror_mode": {
    "name": "ipython",
    "version": 3
   },
   "file_extension": ".py",
   "mimetype": "text/x-python",
   "name": "python",
   "nbconvert_exporter": "python",
   "pygments_lexer": "ipython3",
   "version": "3.9.7"
  }
 },
 "nbformat": 4,
 "nbformat_minor": 5
}
